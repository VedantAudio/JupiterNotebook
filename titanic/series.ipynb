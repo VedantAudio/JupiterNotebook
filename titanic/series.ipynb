{
 "cells": [
  {
   "cell_type": "code",
   "execution_count": 1,
   "metadata": {},
   "outputs": [],
   "source": [
    "from __future__ import (absolute_import, division, print_function, unicode_literals)\n",
    "import warnings\n",
    "\n",
    "warnings.simplefilter('ignore')\n",
    "import pandas as pd\n",
    "from pandas.plotting import scatter_matrix\n",
    "import numpy as np\n",
    "from pylab import *\n",
    "\n",
    "import seaborn as sns\n",
    "import matplotlib.pyplot as plt"
   ]
  },
  {
   "cell_type": "markdown",
   "metadata": {},
   "source": [
    "Импортируем все необходимые библиотеки"
   ]
  },
  {
   "cell_type": "markdown",
   "metadata": {},
   "source": [
    "Разбираем один из способов создания объектов Pandas"
   ]
  },
  {
   "cell_type": "code",
   "execution_count": 3,
   "metadata": {},
   "outputs": [],
   "source": [
    "df1 = pd.Series(np.random.randn(10), index=np.arange(10))"
   ]
  },
  {
   "cell_type": "code",
   "execution_count": 4,
   "metadata": {},
   "outputs": [
    {
     "name": "stdout",
     "output_type": "stream",
     "text": [
      "0    0.761729\n",
      "1   -0.193820\n",
      "2   -0.812498\n",
      "3    0.281288\n",
      "4    0.257877\n",
      "5   -1.810398\n",
      "6   -0.690912\n",
      "7   -0.846916\n",
      "8    0.942563\n",
      "9    0.403905\n",
      "dtype: float64\n"
     ]
    }
   ],
   "source": [
    "print(df1)"
   ]
  },
  {
   "cell_type": "markdown",
   "metadata": {},
   "source": [
    "Разберем обращения к такому объекту"
   ]
  },
  {
   "cell_type": "markdown",
   "metadata": {},
   "source": [
    "Series.append() - добавляет (присоединяет в конец Series) еще один Series"
   ]
  },
  {
   "cell_type": "code",
   "execution_count": 6,
   "metadata": {},
   "outputs": [
    {
     "name": "stdout",
     "output_type": "stream",
     "text": [
      "0    0.761729\n",
      "1   -0.193820\n",
      "2   -0.812498\n",
      "3    0.281288\n",
      "4    0.257877\n",
      "5   -1.810398\n",
      "6   -0.690912\n",
      "7   -0.846916\n",
      "8    0.942563\n",
      "9    0.403905\n",
      "0   -1.561687\n",
      "1    0.695165\n",
      "2   -0.068433\n",
      "3    0.530608\n",
      "dtype: float64\n"
     ]
    }
   ],
   "source": [
    "df2 = pd.Series(np.random.randn(4), index=np.arange(4))\n",
    "df3 = df1.append(df2)\n",
    "print(df3)"
   ]
  },
  {
   "cell_type": "markdown",
   "metadata": {},
   "source": [
    "Series.unique() - выбирает все уникальные значения и выводит как список"
   ]
  },
  {
   "cell_type": "code",
   "execution_count": 7,
   "metadata": {},
   "outputs": [
    {
     "name": "stdout",
     "output_type": "stream",
     "text": [
      "[ 0.76172872 -0.19381972 -0.81249793  0.28128816  0.25787668 -1.81039841\n",
      " -0.69091166 -0.84691584  0.942563    0.40390469 -1.56168733  0.69516532\n",
      " -0.0684327   0.53060768]\n"
     ]
    }
   ],
   "source": [
    "print(df3.unique())"
   ]
  },
  {
   "cell_type": "markdown",
   "metadata": {},
   "source": [
    "Series.get() - выбираем все значения с нужным ключом"
   ]
  },
  {
   "cell_type": "code",
   "execution_count": 12,
   "metadata": {},
   "outputs": [
    {
     "name": "stdout",
     "output_type": "stream",
     "text": [
      "0    0.761729\n",
      "0   -1.561687\n",
      "7   -0.846916\n",
      "dtype: float64\n"
     ]
    }
   ],
   "source": [
    "print(df3.get([0, 7]))"
   ]
  },
  {
   "cell_type": "markdown",
   "metadata": {},
   "source": [
    "Series.align() - объединяем Series с другим Series в турель. Поддерживаются пустые значения, и дублирование одинаковых значений при одинаковых объектах "
   ]
  },
  {
   "cell_type": "code",
   "execution_count": 13,
   "metadata": {},
   "outputs": [
    {
     "name": "stdout",
     "output_type": "stream",
     "text": [
      "(0     0.761729\n",
      "0    -1.561687\n",
      "1    -0.193820\n",
      "1     0.695165\n",
      "2    -0.812498\n",
      "2    -0.068433\n",
      "3     0.281288\n",
      "3     0.530608\n",
      "4     0.257877\n",
      "5    -1.810398\n",
      "6    -0.690912\n",
      "7    -0.846916\n",
      "8     0.942563\n",
      "9     0.403905\n",
      "10         NaN\n",
      "11         NaN\n",
      "12         NaN\n",
      "13         NaN\n",
      "14         NaN\n",
      "15         NaN\n",
      "dtype: float64, 0    -2.413752\n",
      "0    -2.413752\n",
      "1     2.146173\n",
      "1     2.146173\n",
      "2     1.453676\n",
      "2     1.453676\n",
      "3     0.675545\n",
      "3     0.675545\n",
      "4    -1.063570\n",
      "5     0.269828\n",
      "6     0.869854\n",
      "7     0.303536\n",
      "8    -0.790124\n",
      "9    -1.696067\n",
      "10    0.460493\n",
      "11   -0.558389\n",
      "12   -0.500135\n",
      "13   -0.646441\n",
      "14    1.337199\n",
      "15   -1.110804\n",
      "dtype: float64)\n"
     ]
    }
   ],
   "source": [
    "df4 = pd.Series(np.random.randn(16), index=np.arange(16))\n",
    "df3 = df3.align(df4)\n",
    "print(df3)"
   ]
  },
  {
   "cell_type": "markdown",
   "metadata": {},
   "source": [
    "Series to DataFrame: объединение объектов в таблицу"
   ]
  },
  {
   "cell_type": "code",
   "execution_count": 16,
   "metadata": {},
   "outputs": [
    {
     "name": "stdout",
     "output_type": "stream",
     "text": [
      "         df1       df2\n",
      "0   0.761729 -2.413752\n",
      "0  -1.561687 -2.413752\n",
      "1  -0.193820  2.146173\n",
      "1   0.695165  2.146173\n",
      "2  -0.812498  1.453676\n",
      "2  -0.068433  1.453676\n",
      "3   0.281288  0.675545\n",
      "3   0.530608  0.675545\n",
      "4   0.257877 -1.063570\n",
      "5  -1.810398  0.269828\n",
      "6  -0.690912  0.869854\n",
      "7  -0.846916  0.303536\n",
      "8   0.942563 -0.790124\n",
      "9   0.403905 -1.696067\n",
      "10       NaN  0.460493\n",
      "11       NaN -0.558389\n",
      "12       NaN -0.500135\n",
      "13       NaN -0.646441\n",
      "14       NaN  1.337199\n",
      "15       NaN -1.110804\n"
     ]
    }
   ],
   "source": [
    "newdf = pd.DataFrame({'df1': df3[0],\n",
    "                  'df2': df3[1]})\n",
    "print(newdf)"
   ]
  },
  {
   "cell_type": "markdown",
   "metadata": {},
   "source": [
    "DataFrame.fillna() - заполнение NaN значений числом"
   ]
  },
  {
   "cell_type": "code",
   "execution_count": 17,
   "metadata": {},
   "outputs": [
    {
     "name": "stdout",
     "output_type": "stream",
     "text": [
      "         df1       df2\n",
      "0   0.761729 -2.413752\n",
      "0  -1.561687 -2.413752\n",
      "1  -0.193820  2.146173\n",
      "1   0.695165  2.146173\n",
      "2  -0.812498  1.453676\n",
      "2  -0.068433  1.453676\n",
      "3   0.281288  0.675545\n",
      "3   0.530608  0.675545\n",
      "4   0.257877 -1.063570\n",
      "5  -1.810398  0.269828\n",
      "6  -0.690912  0.869854\n",
      "7  -0.846916  0.303536\n",
      "8   0.942563 -0.790124\n",
      "9   0.403905 -1.696067\n",
      "10  0.000000  0.460493\n",
      "11  0.000000 -0.558389\n",
      "12  0.000000 -0.500135\n",
      "13  0.000000 -0.646441\n",
      "14  0.000000  1.337199\n",
      "15  0.000000 -1.110804\n"
     ]
    }
   ],
   "source": [
    "newdf = newdf.fillna(0)\n",
    "print(newdf)"
   ]
  },
  {
   "cell_type": "markdown",
   "metadata": {},
   "source": [
    "DataFrame.head() - вывод первых n строк в датасете"
   ]
  },
  {
   "cell_type": "code",
   "execution_count": 19,
   "metadata": {},
   "outputs": [
    {
     "name": "stdout",
     "output_type": "stream",
     "text": [
      "        df1       df2\n",
      "0  0.761729 -2.413752\n",
      "0 -1.561687 -2.413752\n",
      "1 -0.193820  2.146173\n",
      "1  0.695165  2.146173\n",
      "2 -0.812498  1.453676\n",
      "2 -0.068433  1.453676\n"
     ]
    }
   ],
   "source": [
    "print(newdf.head(6))"
   ]
  },
  {
   "cell_type": "code",
   "execution_count": 21,
   "metadata": {},
   "outputs": [
    {
     "name": "stdout",
     "output_type": "stream",
     "text": [
      "0    0.761729\n",
      "0   -1.561687\n",
      "1   -0.193820\n",
      "1    0.695165\n",
      "2   -0.812498\n",
      "2   -0.068433\n",
      "3    0.281288\n",
      "3    0.530608\n",
      "Name: df1, dtype: float64\n"
     ]
    }
   ],
   "source": [
    "print(newdf['df1'][:8])"
   ]
  },
  {
   "cell_type": "code",
   "execution_count": 24,
   "metadata": {},
   "outputs": [
    {
     "name": "stdout",
     "output_type": "stream",
     "text": [
      "3\n"
     ]
    }
   ],
   "source": [
    "print(len(newdf[(newdf['df1'] > 0) & (newdf['df2'] > 0)]))"
   ]
  },
  {
   "cell_type": "code",
   "execution_count": null,
   "metadata": {},
   "outputs": [],
   "source": []
  }
 ],
 "metadata": {
  "kernelspec": {
   "display_name": "Python 3",
   "language": "python",
   "name": "python3"
  },
  "language_info": {
   "codemirror_mode": {
    "name": "ipython",
    "version": 3
   },
   "file_extension": ".py",
   "mimetype": "text/x-python",
   "name": "python",
   "nbconvert_exporter": "python",
   "pygments_lexer": "ipython3",
   "version": "3.7.3"
  }
 },
 "nbformat": 4,
 "nbformat_minor": 2
}
